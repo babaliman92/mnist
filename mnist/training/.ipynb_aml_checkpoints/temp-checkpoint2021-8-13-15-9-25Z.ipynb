{
  "cells": [
    {
      "cell_type": "code",
      "source": [
        "import numpy as np\r\n",
        "import argparse\r\n",
        "import os\r\n",
        "import glob\r\n",
        "\r\n",
        "import matplotlib.pyplot as plt\r\n",
        "\r\n",
        "from tensorflow import keras\r\n",
        "from tensorflow.keras.models import Sequential, model_from_json\r\n",
        "from tensorflow.keras.layers import Dense\r\n",
        "from tensorflow.keras.optimizers import RMSprop\r\n",
        "from tensorflow.keras.callbacks import Callback\r\n",
        "\r\n",
        "import tensorflow as tf\r\n",
        "\r\n",
        "from azureml.core import Run\r\n",
        "from utils import load_data, one_hot_encode\r\n",
        "from sklearn.metrics import precision_score"
      ],
      "outputs": [],
      "execution_count": 26,
      "metadata": {
        "gather": {
          "logged": 1631287815848
        }
      }
    },
    {
      "cell_type": "code",
      "source": [
        "from azureml.core.run import Run\r\n",
        "from azureml.core import Dataset, Datastore, Workspace\r\n",
        "import os\r\n",
        "import argparse\r\n",
        "import joblib\r\n",
        "import json\r\n",
        "from keras_mnist import preprocess_df, train_model, get_model_metrics"
      ],
      "outputs": [],
      "execution_count": 1,
      "metadata": {
        "jupyter": {
          "source_hidden": false,
          "outputs_hidden": false
        },
        "nteract": {
          "transient": {
            "deleting": false
          }
        },
        "gather": {
          "logged": 1631297669188
        }
      }
    },
    {
      "cell_type": "code",
      "source": [
        "from dataclasses import dataclass\r\n",
        "import os\r\n",
        "from typing import Optional\r\n",
        "\r\n",
        "from dotenv import load_dotenv\r\n",
        "\r\n",
        "\r\n",
        "@dataclass(frozen=True)\r\n",
        "class Env:\r\n",
        "    \"\"\"Loads all environment variables into a predefined set of properties\r\n",
        "    \"\"\"\r\n",
        "\r\n",
        "    # to load .env file into environment variables for local execution\r\n",
        "    load_dotenv()\r\n",
        "    workspace_name: Optional[str] = os.environ.get(\"WORKSPACE_NAME\")\r\n",
        "    resource_group: Optional[str] = os.environ.get(\"RESOURCE_GROUP\")\r\n",
        "    subscription_id: Optional[str] = os.environ.get(\"SUBSCRIPTION_ID\")\r\n",
        "    tenant_id: Optional[str] = os.environ.get(\"TENANT_ID\")\r\n",
        "    app_id: Optional[str] = os.environ.get(\"SP_APP_ID\")\r\n",
        "    app_secret: Optional[str] = os.environ.get(\"SP_APP_SECRET\")\r\n",
        "    vm_size: Optional[str] = os.environ.get(\"AML_COMPUTE_CLUSTER_CPU_SKU\")\r\n",
        "    compute_name: Optional[str] = os.environ.get(\"AML_COMPUTE_CLUSTER_NAME\")\r\n",
        "    vm_priority: Optional[str] = os.environ.get(\r\n",
        "        \"AML_CLUSTER_PRIORITY\", \"lowpriority\"\r\n",
        "    )  # NOQA: E501\r\n",
        "    min_nodes: int = int(os.environ.get(\"AML_CLUSTER_MIN_NODES\", 0))\r\n",
        "    max_nodes: int = int(os.environ.get(\"AML_CLUSTER_MAX_NODES\", 4))\r\n",
        "    build_id: Optional[str] = os.environ.get(\"BUILD_BUILDID\")\r\n",
        "    pipeline_name: Optional[str] = os.environ.get(\"TRAINING_PIPELINE_NAME\")\r\n",
        "    sources_directory_train: Optional[str] = os.environ.get(\r\n",
        "        \"SOURCES_DIR_TRAIN\"\r\n",
        "    )  # NOQA: E501\r\n",
        "    train_script_path: Optional[str] = os.environ.get(\"TRAIN_SCRIPT_PATH\")\r\n",
        "    evaluate_script_path: Optional[str] = os.environ.get(\r\n",
        "        \"EVALUATE_SCRIPT_PATH\"\r\n",
        "    )  # NOQA: E501\r\n",
        "    register_script_path: Optional[str] = os.environ.get(\r\n",
        "        \"REGISTER_SCRIPT_PATH\"\r\n",
        "    )  # NOQA: E501\r\n",
        "    model_name: Optional[str] = os.environ.get(\"MODEL_NAME\")\r\n",
        "    experiment_name: Optional[str] = os.environ.get(\"EXPERIMENT_NAME\")\r\n",
        "    model_version: Optional[str] = os.environ.get(\"MODEL_VERSION\")\r\n",
        "    image_name: Optional[str] = os.environ.get(\"IMAGE_NAME\")\r\n",
        "    db_cluster_id: Optional[str] = os.environ.get(\"DB_CLUSTER_ID\")\r\n",
        "    score_script: Optional[str] = os.environ.get(\"SCORE_SCRIPT\")\r\n",
        "    build_uri: Optional[str] = os.environ.get(\"BUILD_URI\")\r\n",
        "    dataset_name: Optional[str] = os.environ.get(\"DATASET_NAME\")\r\n",
        "    datastore_name: Optional[str] = os.environ.get(\"DATASTORE_NAME\")\r\n",
        "    dataset_version: Optional[str] = os.environ.get(\"DATASET_VERSION\")\r\n",
        "    run_evaluation: Optional[str] = os.environ.get(\"RUN_EVALUATION\", \"true\")\r\n",
        "    allow_run_cancel: Optional[str] = os.environ.get(\r\n",
        "        \"ALLOW_RUN_CANCEL\", \"true\"\r\n",
        "    )  # NOQA: E501\r\n",
        "    aml_env_name: Optional[str] = os.environ.get(\"AML_ENV_NAME\")\r\n",
        "    aml_env_train_conda_dep_file: Optional[str] = os.environ.get(\r\n",
        "        \"AML_ENV_TRAIN_CONDA_DEP_FILE\", \"conda_dependencies.yml\"\r\n",
        "    )\r\n",
        "    rebuild_env: Optional[bool] = os.environ.get(\r\n",
        "        \"AML_REBUILD_ENVIRONMENT\", \"false\"\r\n",
        "    ).lower().strip() == \"true\"\r\n",
        "\r\n",
        "    use_gpu_for_scoring: Optional[bool] = os.environ.get(\r\n",
        "        \"USE_GPU_FOR_SCORING\", \"false\"\r\n",
        "    ).lower().strip() == \"true\"\r\n",
        "    aml_env_score_conda_dep_file: Optional[str] = os.environ.get(\r\n",
        "        \"AML_ENV_SCORE_CONDA_DEP_FILE\", \"conda_dependencies_scoring.yml\"\r\n",
        "    )\r\n",
        "    aml_env_scorecopy_conda_dep_file: Optional[str] = os.environ.get(\r\n",
        "        \"AML_ENV_SCORECOPY_CONDA_DEP_FILE\", \"conda_dependencies_scorecopy.yml\"\r\n",
        "    )\r\n",
        "    vm_size_scoring: Optional[str] = os.environ.get(\r\n",
        "        \"AML_COMPUTE_CLUSTER_CPU_SKU_SCORING\"\r\n",
        "    )\r\n",
        "    compute_name_scoring: Optional[str] = os.environ.get(\r\n",
        "        \"AML_COMPUTE_CLUSTER_NAME_SCORING\"\r\n",
        "    )\r\n",
        "    vm_priority_scoring: Optional[str] = os.environ.get(\r\n",
        "        \"AML_CLUSTER_PRIORITY_SCORING\", \"lowpriority\"\r\n",
        "    )\r\n",
        "    min_nodes_scoring: int = int(\r\n",
        "        os.environ.get(\"AML_CLUSTER_MIN_NODES_SCORING\", 0)\r\n",
        "    )  # NOQA: E501\r\n",
        "    max_nodes_scoring: int = int(\r\n",
        "        os.environ.get(\"AML_CLUSTER_MAX_NODES_SCORING\", 4)\r\n",
        "    )  # NOQA: E501\r\n",
        "    rebuild_env_scoring: Optional[bool] = os.environ.get(\r\n",
        "        \"AML_REBUILD_ENVIRONMENT_SCORING\", \"false\"\r\n",
        "    ).lower().strip() == \"true\"\r\n",
        "    scoring_datastore_storage_name: Optional[str] = os.environ.get(\r\n",
        "        \"SCORING_DATASTORE_STORAGE_NAME\"\r\n",
        "    )\r\n",
        "    scoring_datastore_access_key: Optional[str] = os.environ.get(\r\n",
        "        \"SCORING_DATASTORE_ACCESS_KEY\"\r\n",
        "    )\r\n",
        "    scoring_datastore_input_container: Optional[str] = os.environ.get(\r\n",
        "        \"SCORING_DATASTORE_INPUT_CONTAINER\"\r\n",
        "    )\r\n",
        "    scoring_datastore_input_filename: Optional[str] = os.environ.get(\r\n",
        "        \"SCORING_DATASTORE_INPUT_FILENAME\"\r\n",
        "    )\r\n",
        "    scoring_datastore_output_container: Optional[str] = os.environ.get(\r\n",
        "        \"SCORING_DATASTORE_OUTPUT_CONTAINER\"\r\n",
        "    )\r\n",
        "    scoring_datastore_output_filename: Optional[str] = os.environ.get(\r\n",
        "        \"SCORING_DATASTORE_OUTPUT_FILENAME\"\r\n",
        "    )\r\n",
        "    scoring_dataset_name: Optional[str] = os.environ.get(\r\n",
        "        \"SCORING_DATASET_NAME\"\r\n",
        "    )  # NOQA: E501\r\n",
        "    scoring_pipeline_name: Optional[str] = os.environ.get(\r\n",
        "        \"SCORING_PIPELINE_NAME\"\r\n",
        "    )  # NOQA: E501\r\n",
        "    aml_env_name_scoring: Optional[str] = os.environ.get(\r\n",
        "        \"AML_ENV_NAME_SCORING\"\r\n",
        "    )  # NOQA: E501\r\n",
        "    aml_env_name_score_copy: Optional[str] = os.environ.get(\r\n",
        "        \"AML_ENV_NAME_SCORE_COPY\"\r\n",
        "    )  # NOQA: E501\r\n",
        "    batchscore_script_path: Optional[str] = os.environ.get(\r\n",
        "        \"BATCHSCORE_SCRIPT_PATH\"\r\n",
        "    )  # NOQA: E501\r\n",
        "    batchscore_copy_script_path: Optional[str] = os.environ.get(\r\n",
        "        \"BATCHSCORE_COPY_SCRIPT_PATH\"\r\n",
        "    )  # NOQA: E501"
      ],
      "outputs": [],
      "execution_count": 34,
      "metadata": {
        "jupyter": {
          "source_hidden": false,
          "outputs_hidden": false
        },
        "nteract": {
          "transient": {
            "deleting": false
          }
        },
        "gather": {
          "logged": 1631307581656
        }
      }
    },
    {
      "cell_type": "code",
      "source": [
        "ws = Workspace.from_config()\r\n",
        "print('Workspace name: ' + ws.name, \r\n",
        "      'Azure region: ' + ws.location, \r\n",
        "      'Subscription id: ' + ws.subscription_id, \r\n",
        "      'Resource group: ' + ws.resource_group, sep='\\n')"
      ],
      "outputs": [
        {
          "output_type": "stream",
          "name": "stdout",
          "text": "Workspace name: mlops-aml-ws\nAzure region: centralus\nSubscription id: 67c8a1c5-3a57-45c1-afa7-2e780c1372da\nResource group: mlops-rg\n"
        }
      ],
      "execution_count": 3,
      "metadata": {
        "jupyter": {
          "source_hidden": false,
          "outputs_hidden": false
        },
        "nteract": {
          "transient": {
            "deleting": false
          }
        },
        "gather": {
          "logged": 1631298490201
        }
      }
    },
    {
      "cell_type": "code",
      "source": [
        "web_paths = ['https://azureopendatastorage.blob.core.windows.net/mnist/train-images-idx3-ubyte.gz',\r\n",
        "             'https://azureopendatastorage.blob.core.windows.net/mnist/train-labels-idx1-ubyte.gz',\r\n",
        "             'https://azureopendatastorage.blob.core.windows.net/mnist/t10k-images-idx3-ubyte.gz',\r\n",
        "             'https://azureopendatastorage.blob.core.windows.net/mnist/t10k-labels-idx1-ubyte.gz'\r\n",
        "            ]\r\n",
        "dataset = Dataset.File.from_files(path = web_paths)"
      ],
      "outputs": [],
      "execution_count": 13,
      "metadata": {
        "jupyter": {
          "source_hidden": false,
          "outputs_hidden": false
        },
        "nteract": {
          "transient": {
            "deleting": false
          }
        },
        "gather": {
          "logged": 1631299425490
        }
      }
    },
    {
      "cell_type": "code",
      "source": [
        "dataset = dataset.register(workspace = ws,\r\n",
        "                            name = 'mnist-dataset',\r\n",
        "                            description='training and test dataset',\r\n",
        "                            create_new_version=True)"
      ],
      "outputs": [],
      "execution_count": 21,
      "metadata": {
        "jupyter": {
          "source_hidden": false,
          "outputs_hidden": false
        },
        "nteract": {
          "transient": {
            "deleting": false
          }
        },
        "gather": {
          "logged": 1631302391556
        }
      }
    },
    {
      "cell_type": "code",
      "source": [
        "Dataset.get_by_name(ws,\"mnist-dataset\")"
      ],
      "outputs": [
        {
          "output_type": "execute_result",
          "execution_count": 23,
          "data": {
            "text/plain": "{\n  \"source\": [\n    \"https://azureopendatastorage.blob.core.windows.net/mnist/train-images-idx3-ubyte.gz\",\n    \"https://azureopendatastorage.blob.core.windows.net/mnist/train-labels-idx1-ubyte.gz\",\n    \"https://azureopendatastorage.blob.core.windows.net/mnist/t10k-images-idx3-ubyte.gz\",\n    \"https://azureopendatastorage.blob.core.windows.net/mnist/t10k-labels-idx1-ubyte.gz\"\n  ],\n  \"definition\": [\n    \"GetFiles\"\n  ],\n  \"registration\": {\n    \"id\": \"98c44951-5d10-489a-a7d4-3162d322cfb9\",\n    \"name\": \"mnist-dataset\",\n    \"version\": 1,\n    \"description\": \"training and test dataset\",\n    \"workspace\": \"Workspace.create(name='mlops-aml-ws', subscription_id='67c8a1c5-3a57-45c1-afa7-2e780c1372da', resource_group='mlops-rg')\"\n  }\n}"
          },
          "metadata": {}
        }
      ],
      "execution_count": 23,
      "metadata": {
        "jupyter": {
          "source_hidden": false,
          "outputs_hidden": false
        },
        "nteract": {
          "transient": {
            "deleting": false
          }
        },
        "gather": {
          "logged": 1631302632996
        }
      }
    },
    {
      "cell_type": "code",
      "source": [
        "xxx = os.environ.get(\"WORKSPACE_NAME\")"
      ],
      "outputs": [],
      "execution_count": 26,
      "metadata": {
        "jupyter": {
          "source_hidden": false,
          "outputs_hidden": false
        },
        "nteract": {
          "transient": {
            "deleting": false
          }
        },
        "gather": {
          "logged": 1631307258728
        }
      }
    },
    {
      "cell_type": "code",
      "source": [
        "from dotenv import load_dotenv"
      ],
      "outputs": [],
      "execution_count": 29,
      "metadata": {
        "jupyter": {
          "source_hidden": false,
          "outputs_hidden": false
        },
        "nteract": {
          "transient": {
            "deleting": false
          }
        },
        "gather": {
          "logged": 1631307286339
        }
      }
    },
    {
      "cell_type": "code",
      "source": [
        "load_dotenv()"
      ],
      "outputs": [
        {
          "output_type": "execute_result",
          "execution_count": 30,
          "data": {
            "text/plain": "True"
          },
          "metadata": {}
        }
      ],
      "execution_count": 30,
      "metadata": {
        "jupyter": {
          "source_hidden": false,
          "outputs_hidden": false
        },
        "nteract": {
          "transient": {
            "deleting": false
          }
        },
        "gather": {
          "logged": 1631307296878
        }
      }
    },
    {
      "cell_type": "code",
      "source": [
        "os.environ"
      ],
      "outputs": [
        {
          "output_type": "execute_result",
          "execution_count": 35,
          "data": {
            "text/plain": "environ{'LANG': 'C.UTF-8',\n        'PATH': '/anaconda/envs/azureml_py36/bin/:/usr/local/sbin:/usr/local/bin:/usr/sbin:/usr/bin:/sbin:/bin:/usr/games:/usr/local/games:/snap/bin',\n        'HOME': '/home/azureuser',\n        'LOGNAME': 'azureuser',\n        'USER': 'azureuser',\n        'SHELL': '/bin/bash',\n        'INVOCATION_ID': '2d04616353fe4390aaea4c047c79dd36',\n        'JOURNAL_STREAM': '9:33375',\n        'MKL_THREADING_LAYER': 'GNU',\n        'AML_CloudName': 'AzureCloud',\n        'CI_RESOURCE_GROUP': 'mlops-rg',\n        'CI_WORKSPACE': 'mlops-aml-ws',\n        'CI_NAME': 'temp',\n        'CI_LOCAL_UBUNTU_USER': 'azureuser',\n        'DEFAULT_IDENTITY_CLIENT_ID': 'clientid',\n        'APPSETTING_WEBSITE_SITE_NAME': 'AMLComputeInstance',\n        'MSI_ENDPOINT': 'http://127.0.1.1:46808/MSI/auth',\n        'MSI_SECRET': 'M5n3fxed9x6lVuO9hMPY',\n        'JPY_PARENT_PID': '2911',\n        'TERM': 'xterm-color',\n        'CLICOLOR': '1',\n        'PAGER': 'cat',\n        'GIT_PAGER': 'cat',\n        'MPLBACKEND': 'module://ipykernel.pylab.backend_inline',\n        'KMP_INIT_AT_FORK': 'FALSE',\n        'KMP_DUPLICATE_LIB_OK': 'True'}"
          },
          "metadata": {}
        }
      ],
      "execution_count": 35,
      "metadata": {
        "jupyter": {
          "source_hidden": false,
          "outputs_hidden": false
        },
        "nteract": {
          "transient": {
            "deleting": false
          }
        },
        "gather": {
          "logged": 1631307600400
        }
      }
    },
    {
      "cell_type": "code",
      "source": [
        "e = Env()"
      ],
      "outputs": [],
      "execution_count": 36,
      "metadata": {
        "jupyter": {
          "source_hidden": false,
          "outputs_hidden": false
        },
        "nteract": {
          "transient": {
            "deleting": false
          }
        },
        "gather": {
          "logged": 1631307643367
        }
      }
    },
    {
      "cell_type": "code",
      "source": [
        "print(e.workspace_name)"
      ],
      "outputs": [
        {
          "output_type": "stream",
          "name": "stdout",
          "text": "None\n"
        }
      ],
      "execution_count": 38,
      "metadata": {
        "jupyter": {
          "source_hidden": false,
          "outputs_hidden": false
        },
        "nteract": {
          "transient": {
            "deleting": false
          }
        },
        "gather": {
          "logged": 1631307666585
        }
      }
    },
    {
      "cell_type": "code",
      "source": [],
      "outputs": [],
      "execution_count": null,
      "metadata": {
        "jupyter": {
          "source_hidden": false,
          "outputs_hidden": false
        },
        "nteract": {
          "transient": {
            "deleting": false
          }
        }
      }
    },
    {
      "cell_type": "code",
      "source": [],
      "outputs": [],
      "execution_count": null,
      "metadata": {
        "jupyter": {
          "source_hidden": false,
          "outputs_hidden": false
        },
        "nteract": {
          "transient": {
            "deleting": false
          }
        }
      }
    },
    {
      "cell_type": "code",
      "source": [
        "model_name = args.model_name\r\n",
        "step_output_path = args.step_output\r\n",
        "dataset_version = args.dataset_version\r\n",
        "data_file_path = args.data_file_path\r\n",
        "dataset_name = args.dataset_name"
      ],
      "outputs": [],
      "execution_count": 12,
      "metadata": {
        "jupyter": {
          "source_hidden": false,
          "outputs_hidden": false
        },
        "nteract": {
          "transient": {
            "deleting": false
          }
        },
        "gather": {
          "logged": 1631299154661
        }
      }
    },
    {
      "cell_type": "code",
      "source": [
        "# Load the training parameters from the parameters file\r\n",
        "with open(\"parameters.json\") as f:\r\n",
        "    pars = json.load(f)\r\n",
        "try:\r\n",
        "    train_args = pars[\"training\"]\r\n",
        "except KeyError:\r\n",
        "    print(\"Could not load training values from file\")\r\n",
        "    train_args = {}"
      ],
      "outputs": [],
      "execution_count": 15,
      "metadata": {
        "jupyter": {
          "source_hidden": false,
          "outputs_hidden": false
        },
        "nteract": {
          "transient": {
            "deleting": false
          }
        },
        "gather": {
          "logged": 1631300128862
        }
      }
    },
    {
      "cell_type": "code",
      "source": [
        "train_args"
      ],
      "outputs": [
        {
          "output_type": "execute_result",
          "execution_count": 16,
          "data": {
            "text/plain": "{'n_inputs': 784,\n 'n_h1': 300,\n 'n_h2': 100,\n 'n_outputs': 10,\n 'n_epochs': 20,\n 'batch_size': 50,\n 'learning_rate': 0.001}"
          },
          "metadata": {}
        }
      ],
      "execution_count": 16,
      "metadata": {
        "jupyter": {
          "source_hidden": false,
          "outputs_hidden": false
        },
        "nteract": {
          "transient": {
            "deleting": false
          }
        },
        "gather": {
          "logged": 1631300146278
        }
      }
    },
    {
      "cell_type": "code",
      "source": [
        "train_args[\"n_inputs\"]\r\n",
        "train_args[\"n_inputs\"]\r\n",
        "train_args[\"n_inputs\"]\r\n",
        "train_args[\"n_inputs\"]\r\n",
        "train_args[\"n_inputs\"]\r\n",
        "train_args[\"n_inputs\"]\r\n",
        "train_args[\"n_inputs\"]"
      ],
      "outputs": [
        {
          "output_type": "execute_result",
          "execution_count": 18,
          "data": {
            "text/plain": "784"
          },
          "metadata": {}
        }
      ],
      "execution_count": 18,
      "metadata": {
        "jupyter": {
          "source_hidden": false,
          "outputs_hidden": false
        },
        "nteract": {
          "transient": {
            "deleting": false
          }
        },
        "gather": {
          "logged": 1631300805472
        }
      }
    },
    {
      "cell_type": "code",
      "source": [
        "data_folder = '/mnt/batch/tasks/shared/LS_root/mounts/clusters/temp/code/Users/lydia.ingabire.1/mnist/data'"
      ],
      "outputs": [],
      "execution_count": 39,
      "metadata": {
        "jupyter": {
          "source_hidden": false,
          "outputs_hidden": false
        },
        "nteract": {
          "transient": {
            "deleting": false
          }
        },
        "gather": {
          "logged": 1631290082501
        }
      }
    },
    {
      "cell_type": "code",
      "source": [
        "glob.glob(os.path.join(data_folder, '**/train-images-idx3-ubyte.gz'), recursive=True)[0]"
      ],
      "outputs": [
        {
          "output_type": "execute_result",
          "execution_count": 43,
          "data": {
            "text/plain": "'/mnt/batch/tasks/shared/LS_root/mounts/clusters/temp/code/Users/lydia.ingabire.1/mnist/data/train-images-idx3-ubyte.gz'"
          },
          "metadata": {}
        }
      ],
      "execution_count": 43,
      "metadata": {
        "jupyter": {
          "source_hidden": false,
          "outputs_hidden": false
        },
        "nteract": {
          "transient": {
            "deleting": false
          }
        },
        "gather": {
          "logged": 1631290473282
        }
      }
    },
    {
      "cell_type": "code",
      "source": [],
      "outputs": [],
      "execution_count": null,
      "metadata": {
        "jupyter": {
          "source_hidden": false,
          "outputs_hidden": false
        },
        "nteract": {
          "transient": {
            "deleting": false
          }
        }
      }
    },
    {
      "cell_type": "code",
      "source": [
        "datastore = Datastore.get(aml_workspace, datastore_name)\r\n",
        "dataset = Dataset.Tabular.from_delimited_files(path=(datastore, file_path))\r\n",
        "dataset = dataset.register(workspace=aml_workspace,\r\n",
        "                               name=dataset_name,\r\n",
        "                               create_new_version=True)"
      ],
      "outputs": [
        {
          "output_type": "error",
          "ename": "NameError",
          "evalue": "name 'Datastore' is not defined",
          "traceback": [
            "\u001b[0;31m---------------------------------------------------------------------------\u001b[0m",
            "\u001b[0;31mNameError\u001b[0m                                 Traceback (most recent call last)",
            "\u001b[0;32m<ipython-input-44-8dd895045d70>\u001b[0m in \u001b[0;36m<module>\u001b[0;34m\u001b[0m\n\u001b[0;32m----> 1\u001b[0;31m \u001b[0mdatastore\u001b[0m \u001b[0;34m=\u001b[0m \u001b[0mDatastore\u001b[0m\u001b[0;34m.\u001b[0m\u001b[0mget\u001b[0m\u001b[0;34m(\u001b[0m\u001b[0maml_workspace\u001b[0m\u001b[0;34m,\u001b[0m \u001b[0mdatastore_name\u001b[0m\u001b[0;34m)\u001b[0m\u001b[0;34m\u001b[0m\u001b[0;34m\u001b[0m\u001b[0m\n\u001b[0m\u001b[1;32m      2\u001b[0m \u001b[0mdataset\u001b[0m \u001b[0;34m=\u001b[0m \u001b[0mDataset\u001b[0m\u001b[0;34m.\u001b[0m\u001b[0mTabular\u001b[0m\u001b[0;34m.\u001b[0m\u001b[0mfrom_delimited_files\u001b[0m\u001b[0;34m(\u001b[0m\u001b[0mpath\u001b[0m\u001b[0;34m=\u001b[0m\u001b[0;34m(\u001b[0m\u001b[0mdatastore\u001b[0m\u001b[0;34m,\u001b[0m \u001b[0mfile_path\u001b[0m\u001b[0;34m)\u001b[0m\u001b[0;34m)\u001b[0m\u001b[0;34m\u001b[0m\u001b[0;34m\u001b[0m\u001b[0m\n\u001b[1;32m      3\u001b[0m dataset = dataset.register(workspace=aml_workspace,\n\u001b[1;32m      4\u001b[0m                                \u001b[0mname\u001b[0m\u001b[0;34m=\u001b[0m\u001b[0mdataset_name\u001b[0m\u001b[0;34m,\u001b[0m\u001b[0;34m\u001b[0m\u001b[0;34m\u001b[0m\u001b[0m\n\u001b[1;32m      5\u001b[0m                                create_new_version=True)\n",
            "\u001b[0;31mNameError\u001b[0m: name 'Datastore' is not defined"
          ]
        }
      ],
      "execution_count": 44,
      "metadata": {
        "jupyter": {
          "source_hidden": false,
          "outputs_hidden": false
        },
        "nteract": {
          "transient": {
            "deleting": false
          }
        },
        "gather": {
          "logged": 1631290086149
        }
      }
    },
    {
      "cell_type": "code",
      "source": [],
      "outputs": [],
      "execution_count": null,
      "metadata": {
        "jupyter": {
          "source_hidden": false,
          "outputs_hidden": false
        },
        "nteract": {
          "transient": {
            "deleting": false
          }
        }
      }
    }
  ],
  "metadata": {
    "kernelspec": {
      "name": "python3-azureml",
      "language": "python",
      "display_name": "Python 3.6 - AzureML"
    },
    "language_info": {
      "name": "python",
      "version": "3.6.9",
      "mimetype": "text/x-python",
      "codemirror_mode": {
        "name": "ipython",
        "version": 3
      },
      "pygments_lexer": "ipython3",
      "nbconvert_exporter": "python",
      "file_extension": ".py"
    },
    "kernel_info": {
      "name": "python3-azureml"
    },
    "nteract": {
      "version": "nteract-front-end@1.0.0"
    },
    "microsoft": {
      "host": {
        "AzureML": {
          "notebookHasBeenCompleted": true
        }
      }
    }
  },
  "nbformat": 4,
  "nbformat_minor": 2
}