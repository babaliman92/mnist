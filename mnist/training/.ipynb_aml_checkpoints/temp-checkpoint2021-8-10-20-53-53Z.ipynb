{
  "cells": [
    {
      "cell_type": "code",
      "source": [
        "import numpy as np\r\n",
        "import argparse\r\n",
        "import os\r\n",
        "import glob\r\n",
        "\r\n",
        "import matplotlib.pyplot as plt\r\n",
        "\r\n",
        "from tensorflow import keras\r\n",
        "from tensorflow.keras.models import Sequential, model_from_json\r\n",
        "from tensorflow.keras.layers import Dense\r\n",
        "from tensorflow.keras.optimizers import RMSprop\r\n",
        "from tensorflow.keras.callbacks import Callback\r\n",
        "\r\n",
        "import tensorflow as tf\r\n",
        "\r\n",
        "from azureml.core import Run\r\n",
        "from utils import load_data, one_hot_encode\r\n",
        "from sklearn.metrics import precision_score"
      ],
      "outputs": [],
      "execution_count": 26,
      "metadata": {
        "gather": {
          "logged": 1631287815848
        }
      }
    },
    {
      "cell_type": "code",
      "source": [
        "from azureml.core.run import Run\r\n",
        "from azureml.core import Dataset, Datastore, Workspace\r\n",
        "import os\r\n",
        "import argparse\r\n",
        "import joblib\r\n",
        "import json\r\n",
        "from keras_mnist import preprocess_df, train_model, get_model_metrics"
      ],
      "outputs": [],
      "execution_count": 1,
      "metadata": {
        "jupyter": {
          "source_hidden": false,
          "outputs_hidden": false
        },
        "nteract": {
          "transient": {
            "deleting": false
          }
        },
        "gather": {
          "logged": 1631297669188
        }
      }
    },
    {
      "cell_type": "code",
      "source": [
        "ws = Workspace.from_config()\r\n",
        "print('Workspace name: ' + ws.name, \r\n",
        "      'Azure region: ' + ws.location, \r\n",
        "      'Subscription id: ' + ws.subscription_id, \r\n",
        "      'Resource group: ' + ws.resource_group, sep='\\n')"
      ],
      "outputs": [
        {
          "output_type": "stream",
          "name": "stdout",
          "text": "Workspace name: mlops-aml-ws\nAzure region: centralus\nSubscription id: 67c8a1c5-3a57-45c1-afa7-2e780c1372da\nResource group: mlops-rg\n"
        }
      ],
      "execution_count": 3,
      "metadata": {
        "jupyter": {
          "source_hidden": false,
          "outputs_hidden": false
        },
        "nteract": {
          "transient": {
            "deleting": false
          }
        },
        "gather": {
          "logged": 1631298490201
        }
      }
    },
    {
      "cell_type": "code",
      "source": [
        "web_paths = ['https://azureopendatastorage.blob.core.windows.net/mnist/train-images-idx3-ubyte.gz',\r\n",
        "             'https://azureopendatastorage.blob.core.windows.net/mnist/train-labels-idx1-ubyte.gz',\r\n",
        "             'https://azureopendatastorage.blob.core.windows.net/mnist/t10k-images-idx3-ubyte.gz',\r\n",
        "             'https://azureopendatastorage.blob.core.windows.net/mnist/t10k-labels-idx1-ubyte.gz'\r\n",
        "            ]\r\n",
        "dataset = Dataset.File.from_files(path = web_paths)"
      ],
      "outputs": [],
      "execution_count": 13,
      "metadata": {
        "jupyter": {
          "source_hidden": false,
          "outputs_hidden": false
        },
        "nteract": {
          "transient": {
            "deleting": false
          }
        },
        "gather": {
          "logged": 1631299425490
        }
      }
    },
    {
      "cell_type": "code",
      "source": [
        "dataset = dataset.register(workspace = ws,\r\n",
        "                            name = 'mnist-dataset',\r\n",
        "                            description='training and test dataset',\r\n",
        "                            create_new_version=True)"
      ],
      "outputs": [],
      "execution_count": 21,
      "metadata": {
        "jupyter": {
          "source_hidden": false,
          "outputs_hidden": false
        },
        "nteract": {
          "transient": {
            "deleting": false
          }
        },
        "gather": {
          "logged": 1631302391556
        }
      }
    },
    {
      "cell_type": "code",
      "source": [
        "Dataset.get_by_name(ws,\"mnist-dataset\")"
      ],
      "outputs": [
        {
          "output_type": "execute_result",
          "execution_count": 23,
          "data": {
            "text/plain": "{\n  \"source\": [\n    \"https://azureopendatastorage.blob.core.windows.net/mnist/train-images-idx3-ubyte.gz\",\n    \"https://azureopendatastorage.blob.core.windows.net/mnist/train-labels-idx1-ubyte.gz\",\n    \"https://azureopendatastorage.blob.core.windows.net/mnist/t10k-images-idx3-ubyte.gz\",\n    \"https://azureopendatastorage.blob.core.windows.net/mnist/t10k-labels-idx1-ubyte.gz\"\n  ],\n  \"definition\": [\n    \"GetFiles\"\n  ],\n  \"registration\": {\n    \"id\": \"98c44951-5d10-489a-a7d4-3162d322cfb9\",\n    \"name\": \"mnist-dataset\",\n    \"version\": 1,\n    \"description\": \"training and test dataset\",\n    \"workspace\": \"Workspace.create(name='mlops-aml-ws', subscription_id='67c8a1c5-3a57-45c1-afa7-2e780c1372da', resource_group='mlops-rg')\"\n  }\n}"
          },
          "metadata": {}
        }
      ],
      "execution_count": 23,
      "metadata": {
        "jupyter": {
          "source_hidden": false,
          "outputs_hidden": false
        },
        "nteract": {
          "transient": {
            "deleting": false
          }
        },
        "gather": {
          "logged": 1631302632996
        }
      }
    },
    {
      "cell_type": "code",
      "source": [
        "dataset"
      ],
      "outputs": [
        {
          "output_type": "execute_result",
          "execution_count": 17,
          "data": {
            "text/plain": "{\n  \"source\": [\n    \"https://azureopendatastorage.blob.core.windows.net/mnist/train-images-idx3-ubyte.gz\",\n    \"https://azureopendatastorage.blob.core.windows.net/mnist/train-labels-idx1-ubyte.gz\",\n    \"https://azureopendatastorage.blob.core.windows.net/mnist/t10k-images-idx3-ubyte.gz\",\n    \"https://azureopendatastorage.blob.core.windows.net/mnist/t10k-labels-idx1-ubyte.gz\"\n  ],\n  \"definition\": [\n    \"GetFiles\"\n  ],\n  \"registration\": {\n    \"id\": \"98c44951-5d10-489a-a7d4-3162d322cfb9\",\n    \"name\": \"mnist-dataset\",\n    \"version\": 1,\n    \"description\": \"training and test dataset\",\n    \"workspace\": \"Workspace.create(name='mlops-aml-ws', subscription_id='67c8a1c5-3a57-45c1-afa7-2e780c1372da', resource_group='mlops-rg')\"\n  }\n}"
          },
          "metadata": {}
        }
      ],
      "execution_count": 17,
      "metadata": {
        "jupyter": {
          "source_hidden": false,
          "outputs_hidden": false
        },
        "nteract": {
          "transient": {
            "deleting": false
          }
        },
        "gather": {
          "logged": 1631300231483
        }
      }
    },
    {
      "cell_type": "code",
      "source": [
        "model_name = args.model_name\r\n",
        "step_output_path = args.step_output\r\n",
        "dataset_version = args.dataset_version\r\n",
        "data_file_path = args.data_file_path\r\n",
        "dataset_name = args.dataset_name"
      ],
      "outputs": [],
      "execution_count": 12,
      "metadata": {
        "jupyter": {
          "source_hidden": false,
          "outputs_hidden": false
        },
        "nteract": {
          "transient": {
            "deleting": false
          }
        },
        "gather": {
          "logged": 1631299154661
        }
      }
    },
    {
      "cell_type": "code",
      "source": [
        "# Load the training parameters from the parameters file\r\n",
        "with open(\"parameters.json\") as f:\r\n",
        "    pars = json.load(f)\r\n",
        "try:\r\n",
        "    train_args = pars[\"training\"]\r\n",
        "except KeyError:\r\n",
        "    print(\"Could not load training values from file\")\r\n",
        "    train_args = {}"
      ],
      "outputs": [],
      "execution_count": 15,
      "metadata": {
        "jupyter": {
          "source_hidden": false,
          "outputs_hidden": false
        },
        "nteract": {
          "transient": {
            "deleting": false
          }
        },
        "gather": {
          "logged": 1631300128862
        }
      }
    },
    {
      "cell_type": "code",
      "source": [
        "train_args"
      ],
      "outputs": [
        {
          "output_type": "execute_result",
          "execution_count": 16,
          "data": {
            "text/plain": "{'n_inputs': 784,\n 'n_h1': 300,\n 'n_h2': 100,\n 'n_outputs': 10,\n 'n_epochs': 20,\n 'batch_size': 50,\n 'learning_rate': 0.001}"
          },
          "metadata": {}
        }
      ],
      "execution_count": 16,
      "metadata": {
        "jupyter": {
          "source_hidden": false,
          "outputs_hidden": false
        },
        "nteract": {
          "transient": {
            "deleting": false
          }
        },
        "gather": {
          "logged": 1631300146278
        }
      }
    },
    {
      "cell_type": "code",
      "source": [
        "train_args[\"n_inputs\"]\r\n",
        "train_args[\"n_inputs\"]\r\n",
        "train_args[\"n_inputs\"]\r\n",
        "train_args[\"n_inputs\"]\r\n",
        "train_args[\"n_inputs\"]\r\n",
        "train_args[\"n_inputs\"]\r\n",
        "train_args[\"n_inputs\"]"
      ],
      "outputs": [
        {
          "output_type": "execute_result",
          "execution_count": 18,
          "data": {
            "text/plain": "784"
          },
          "metadata": {}
        }
      ],
      "execution_count": 18,
      "metadata": {
        "jupyter": {
          "source_hidden": false,
          "outputs_hidden": false
        },
        "nteract": {
          "transient": {
            "deleting": false
          }
        },
        "gather": {
          "logged": 1631300805472
        }
      }
    },
    {
      "cell_type": "code",
      "source": [
        "data_folder = '/mnt/batch/tasks/shared/LS_root/mounts/clusters/temp/code/Users/lydia.ingabire.1/mnist/data'"
      ],
      "outputs": [],
      "execution_count": 39,
      "metadata": {
        "jupyter": {
          "source_hidden": false,
          "outputs_hidden": false
        },
        "nteract": {
          "transient": {
            "deleting": false
          }
        },
        "gather": {
          "logged": 1631290082501
        }
      }
    },
    {
      "cell_type": "code",
      "source": [
        "glob.glob(os.path.join(data_folder, '**/train-images-idx3-ubyte.gz'), recursive=True)[0]"
      ],
      "outputs": [
        {
          "output_type": "execute_result",
          "execution_count": 43,
          "data": {
            "text/plain": "'/mnt/batch/tasks/shared/LS_root/mounts/clusters/temp/code/Users/lydia.ingabire.1/mnist/data/train-images-idx3-ubyte.gz'"
          },
          "metadata": {}
        }
      ],
      "execution_count": 43,
      "metadata": {
        "jupyter": {
          "source_hidden": false,
          "outputs_hidden": false
        },
        "nteract": {
          "transient": {
            "deleting": false
          }
        },
        "gather": {
          "logged": 1631290473282
        }
      }
    },
    {
      "cell_type": "code",
      "source": [],
      "outputs": [],
      "execution_count": null,
      "metadata": {
        "jupyter": {
          "source_hidden": false,
          "outputs_hidden": false
        },
        "nteract": {
          "transient": {
            "deleting": false
          }
        }
      }
    },
    {
      "cell_type": "code",
      "source": [
        "datastore = Datastore.get(aml_workspace, datastore_name)\r\n",
        "dataset = Dataset.Tabular.from_delimited_files(path=(datastore, file_path))\r\n",
        "dataset = dataset.register(workspace=aml_workspace,\r\n",
        "                               name=dataset_name,\r\n",
        "                               create_new_version=True)"
      ],
      "outputs": [
        {
          "output_type": "error",
          "ename": "NameError",
          "evalue": "name 'Datastore' is not defined",
          "traceback": [
            "\u001b[0;31m---------------------------------------------------------------------------\u001b[0m",
            "\u001b[0;31mNameError\u001b[0m                                 Traceback (most recent call last)",
            "\u001b[0;32m<ipython-input-44-8dd895045d70>\u001b[0m in \u001b[0;36m<module>\u001b[0;34m\u001b[0m\n\u001b[0;32m----> 1\u001b[0;31m \u001b[0mdatastore\u001b[0m \u001b[0;34m=\u001b[0m \u001b[0mDatastore\u001b[0m\u001b[0;34m.\u001b[0m\u001b[0mget\u001b[0m\u001b[0;34m(\u001b[0m\u001b[0maml_workspace\u001b[0m\u001b[0;34m,\u001b[0m \u001b[0mdatastore_name\u001b[0m\u001b[0;34m)\u001b[0m\u001b[0;34m\u001b[0m\u001b[0;34m\u001b[0m\u001b[0m\n\u001b[0m\u001b[1;32m      2\u001b[0m \u001b[0mdataset\u001b[0m \u001b[0;34m=\u001b[0m \u001b[0mDataset\u001b[0m\u001b[0;34m.\u001b[0m\u001b[0mTabular\u001b[0m\u001b[0;34m.\u001b[0m\u001b[0mfrom_delimited_files\u001b[0m\u001b[0;34m(\u001b[0m\u001b[0mpath\u001b[0m\u001b[0;34m=\u001b[0m\u001b[0;34m(\u001b[0m\u001b[0mdatastore\u001b[0m\u001b[0;34m,\u001b[0m \u001b[0mfile_path\u001b[0m\u001b[0;34m)\u001b[0m\u001b[0;34m)\u001b[0m\u001b[0;34m\u001b[0m\u001b[0;34m\u001b[0m\u001b[0m\n\u001b[1;32m      3\u001b[0m dataset = dataset.register(workspace=aml_workspace,\n\u001b[1;32m      4\u001b[0m                                \u001b[0mname\u001b[0m\u001b[0;34m=\u001b[0m\u001b[0mdataset_name\u001b[0m\u001b[0;34m,\u001b[0m\u001b[0;34m\u001b[0m\u001b[0;34m\u001b[0m\u001b[0m\n\u001b[1;32m      5\u001b[0m                                create_new_version=True)\n",
            "\u001b[0;31mNameError\u001b[0m: name 'Datastore' is not defined"
          ]
        }
      ],
      "execution_count": 44,
      "metadata": {
        "jupyter": {
          "source_hidden": false,
          "outputs_hidden": false
        },
        "nteract": {
          "transient": {
            "deleting": false
          }
        },
        "gather": {
          "logged": 1631290086149
        }
      }
    },
    {
      "cell_type": "code",
      "source": [],
      "outputs": [],
      "execution_count": null,
      "metadata": {
        "jupyter": {
          "source_hidden": false,
          "outputs_hidden": false
        },
        "nteract": {
          "transient": {
            "deleting": false
          }
        }
      }
    }
  ],
  "metadata": {
    "kernelspec": {
      "name": "python3-azureml",
      "language": "python",
      "display_name": "Python 3.6 - AzureML"
    },
    "language_info": {
      "name": "python",
      "version": "3.6.9",
      "mimetype": "text/x-python",
      "codemirror_mode": {
        "name": "ipython",
        "version": 3
      },
      "pygments_lexer": "ipython3",
      "nbconvert_exporter": "python",
      "file_extension": ".py"
    },
    "kernel_info": {
      "name": "python3-azureml"
    },
    "nteract": {
      "version": "nteract-front-end@1.0.0"
    },
    "microsoft": {
      "host": {
        "AzureML": {
          "notebookHasBeenCompleted": true
        }
      }
    }
  },
  "nbformat": 4,
  "nbformat_minor": 2
}